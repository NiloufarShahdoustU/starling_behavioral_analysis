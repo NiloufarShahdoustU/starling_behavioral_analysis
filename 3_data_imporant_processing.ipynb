{
 "cells": [
  {
   "cell_type": "code",
   "execution_count": 1,
   "id": "9d88a4d6-96e0-4f0b-b75e-d2b236148054",
   "metadata": {},
   "outputs": [],
   "source": [
    "import pandas as pd\n",
    "import numpy as np\n",
    "import matplotlib.pyplot as plt\n",
    "import os\n",
    "import seaborn as sns \n",
    "from matplotlib.ticker import MaxNLocator\n",
    "from matplotlib.ticker import FixedLocator\n",
    "import statsmodels.api as sm"
   ]
  },
  {
   "cell_type": "code",
   "execution_count": 2,
   "id": "7d7de5fe",
   "metadata": {},
   "outputs": [
    {
     "data": {
      "application/vnd.microsoft.datawrangler.viewer.v0+json": {
       "columns": [
        {
         "name": "index",
         "rawType": "int64",
         "type": "integer"
        },
        {
         "name": "arrowRT",
         "rawType": "object",
         "type": "string"
        },
        {
         "name": "distribution",
         "rawType": "object",
         "type": "string"
        },
        {
         "name": "interTrialInterval",
         "rawType": "float64",
         "type": "float"
        },
        {
         "name": "outcome",
         "rawType": "object",
         "type": "string"
        },
        {
         "name": "myCard",
         "rawType": "float64",
         "type": "float"
        },
        {
         "name": "yourCard",
         "rawType": "float64",
         "type": "float"
        },
        {
         "name": "spaceRT",
         "rawType": "float64",
         "type": "float"
        },
        {
         "name": "totalReward",
         "rawType": "object",
         "type": "string"
        },
        {
         "name": "trialIndex",
         "rawType": "float64",
         "type": "float"
        },
        {
         "name": "trialType",
         "rawType": "object",
         "type": "string"
        },
        {
         "name": "choice",
         "rawType": "object",
         "type": "string"
        },
        {
         "name": "block",
         "rawType": "float64",
         "type": "float"
        },
        {
         "name": "timeoutRepeat",
         "rawType": "float64",
         "type": "float"
        },
        {
         "name": "spaceRT_2sd",
         "rawType": "float64",
         "type": "float"
        }
       ],
       "conversionMethod": "pd.DataFrame",
       "ref": "11fde9d8-7b29-4c62-a372-74ca65cb8d9c",
       "rows": [
        [
         "0",
         "na",
         "uniform",
         "879.0",
         "na",
         "4.0",
         "2.0",
         "10433.0",
         "na",
         "0.0",
         "timeout",
         "na",
         "1.0",
         "0.0",
         "5115.974575126752"
        ],
        [
         "1",
         "820.0",
         "uniform",
         "996.0",
         "win",
         "4.0",
         "6.0",
         "2306.0",
         "10.5",
         "1.0",
         "response",
         "arrowdown",
         "1.0",
         "0.0",
         "5115.974575126752"
        ],
        [
         "2",
         "397.0",
         "uniform",
         "896.0",
         "win",
         "8.0",
         "3.0",
         "2601.0",
         "11.0",
         "2.0",
         "response",
         "arrowup",
         "1.0",
         "0.0",
         "5115.974575126752"
        ]
       ],
       "shape": {
        "columns": 14,
        "rows": 3
       }
      },
      "text/html": [
       "<div>\n",
       "<style scoped>\n",
       "    .dataframe tbody tr th:only-of-type {\n",
       "        vertical-align: middle;\n",
       "    }\n",
       "\n",
       "    .dataframe tbody tr th {\n",
       "        vertical-align: top;\n",
       "    }\n",
       "\n",
       "    .dataframe thead th {\n",
       "        text-align: right;\n",
       "    }\n",
       "</style>\n",
       "<table border=\"1\" class=\"dataframe\">\n",
       "  <thead>\n",
       "    <tr style=\"text-align: right;\">\n",
       "      <th></th>\n",
       "      <th>arrowRT</th>\n",
       "      <th>distribution</th>\n",
       "      <th>interTrialInterval</th>\n",
       "      <th>outcome</th>\n",
       "      <th>myCard</th>\n",
       "      <th>yourCard</th>\n",
       "      <th>spaceRT</th>\n",
       "      <th>totalReward</th>\n",
       "      <th>trialIndex</th>\n",
       "      <th>trialType</th>\n",
       "      <th>choice</th>\n",
       "      <th>block</th>\n",
       "      <th>timeoutRepeat</th>\n",
       "      <th>spaceRT_2sd</th>\n",
       "    </tr>\n",
       "  </thead>\n",
       "  <tbody>\n",
       "    <tr>\n",
       "      <th>0</th>\n",
       "      <td>na</td>\n",
       "      <td>uniform</td>\n",
       "      <td>879.0</td>\n",
       "      <td>na</td>\n",
       "      <td>4.0</td>\n",
       "      <td>2.0</td>\n",
       "      <td>10433.0</td>\n",
       "      <td>na</td>\n",
       "      <td>0.0</td>\n",
       "      <td>timeout</td>\n",
       "      <td>na</td>\n",
       "      <td>1.0</td>\n",
       "      <td>0.0</td>\n",
       "      <td>5115.974575</td>\n",
       "    </tr>\n",
       "    <tr>\n",
       "      <th>1</th>\n",
       "      <td>820.0</td>\n",
       "      <td>uniform</td>\n",
       "      <td>996.0</td>\n",
       "      <td>win</td>\n",
       "      <td>4.0</td>\n",
       "      <td>6.0</td>\n",
       "      <td>2306.0</td>\n",
       "      <td>10.5</td>\n",
       "      <td>1.0</td>\n",
       "      <td>response</td>\n",
       "      <td>arrowdown</td>\n",
       "      <td>1.0</td>\n",
       "      <td>0.0</td>\n",
       "      <td>5115.974575</td>\n",
       "    </tr>\n",
       "    <tr>\n",
       "      <th>2</th>\n",
       "      <td>397.0</td>\n",
       "      <td>uniform</td>\n",
       "      <td>896.0</td>\n",
       "      <td>win</td>\n",
       "      <td>8.0</td>\n",
       "      <td>3.0</td>\n",
       "      <td>2601.0</td>\n",
       "      <td>11.0</td>\n",
       "      <td>2.0</td>\n",
       "      <td>response</td>\n",
       "      <td>arrowup</td>\n",
       "      <td>1.0</td>\n",
       "      <td>0.0</td>\n",
       "      <td>5115.974575</td>\n",
       "    </tr>\n",
       "  </tbody>\n",
       "</table>\n",
       "</div>"
      ],
      "text/plain": [
       "  arrowRT distribution  interTrialInterval outcome  myCard  yourCard  spaceRT  \\\n",
       "0      na      uniform               879.0      na     4.0       2.0  10433.0   \n",
       "1   820.0      uniform               996.0     win     4.0       6.0   2306.0   \n",
       "2   397.0      uniform               896.0     win     8.0       3.0   2601.0   \n",
       "\n",
       "  totalReward  trialIndex trialType     choice  block  timeoutRepeat  \\\n",
       "0          na         0.0   timeout         na    1.0            0.0   \n",
       "1        10.5         1.0  response  arrowdown    1.0            0.0   \n",
       "2        11.0         2.0  response    arrowup    1.0            0.0   \n",
       "\n",
       "   spaceRT_2sd  \n",
       "0  5115.974575  \n",
       "1  5115.974575  \n",
       "2  5115.974575  "
      ]
     },
     "execution_count": 2,
     "metadata": {},
     "output_type": "execute_result"
    }
   ],
   "source": [
    "folder_path = 'data'\n",
    "dataframes = []\n",
    "\n",
    "\n",
    "for file_name in os.listdir(folder_path):\n",
    "    if file_name.endswith('.xlsx'):\n",
    "        file_path = os.path.join(folder_path, file_name)\n",
    "        df = pd.read_excel(file_path)\n",
    "        \n",
    "        # Calculate mean and standard deviation of spaceRT\n",
    "        # Calculate 3*std for spaceRT and add as a new column we do this for knowing the spaceRT outliers and remove them in\n",
    "        # calculating spaceRT cause these are rest somehow \n",
    "        # the spaceRT_2sd is obviously same in all columns cause it's based on all the spaceRTs. I just wanted to have everything\n",
    "        # in the dataframe\n",
    "        mean_spaceRT = df['spaceRT'].mean()\n",
    "        std_spaceRT = df['spaceRT'].std()\n",
    "        df['spaceRT_2sd'] = mean_spaceRT + 2 * std_spaceRT\n",
    "        \n",
    "\n",
    "        dataframes.append(df)\n",
    "\n",
    "dataframes[5].head(3)"
   ]
  },
  {
   "cell_type": "code",
   "execution_count": 3,
   "id": "9c524ae4",
   "metadata": {},
   "outputs": [
    {
     "data": {
      "application/vnd.microsoft.datawrangler.viewer.v0+json": {
       "columns": [
        {
         "name": "index",
         "rawType": "int64",
         "type": "integer"
        },
        {
         "name": "arrowRT",
         "rawType": "object",
         "type": "string"
        },
        {
         "name": "distribution",
         "rawType": "object",
         "type": "string"
        },
        {
         "name": "interTrialInterval",
         "rawType": "float64",
         "type": "float"
        },
        {
         "name": "outcome",
         "rawType": "object",
         "type": "string"
        },
        {
         "name": "myCard",
         "rawType": "float64",
         "type": "float"
        },
        {
         "name": "yourCard",
         "rawType": "float64",
         "type": "float"
        },
        {
         "name": "spaceRT",
         "rawType": "float64",
         "type": "float"
        },
        {
         "name": "totalReward",
         "rawType": "object",
         "type": "string"
        },
        {
         "name": "trialIndex",
         "rawType": "float64",
         "type": "float"
        },
        {
         "name": "trialType",
         "rawType": "object",
         "type": "string"
        },
        {
         "name": "choice",
         "rawType": "object",
         "type": "string"
        },
        {
         "name": "block",
         "rawType": "float64",
         "type": "float"
        },
        {
         "name": "timeoutRepeat",
         "rawType": "float64",
         "type": "float"
        },
        {
         "name": "spaceRT_2sd",
         "rawType": "float64",
         "type": "float"
        },
        {
         "name": "block_type",
         "rawType": "object",
         "type": "string"
        }
       ],
       "conversionMethod": "pd.DataFrame",
       "ref": "ad62d888-ebae-45db-a0ae-fa4f81122bb4",
       "rows": [
        [
         "0",
         "570.0",
         "uniform",
         "831.0",
         "lose",
         "5.0",
         "2.0",
         "2209.0",
         "9.5",
         "0.0",
         "response",
         "arrowdown",
         "1.0",
         "0.0",
         "33269.60994623191",
         "uniform"
        ],
        [
         "1",
         "1162.0",
         "uniform",
         "901.0",
         "lose",
         "4.0",
         "3.0",
         "5755.0",
         "9.0",
         "1.0",
         "response",
         "arrowdown",
         "1.0",
         "0.0",
         "33269.60994623191",
         "uniform"
        ],
        [
         "2",
         "355.0",
         "uniform",
         "939.0",
         "win",
         "4.0",
         "6.0",
         "1209.0",
         "9.5",
         "2.0",
         "response",
         "arrowdown",
         "1.0",
         "0.0",
         "33269.60994623191",
         "uniform"
        ]
       ],
       "shape": {
        "columns": 15,
        "rows": 3
       }
      },
      "text/html": [
       "<div>\n",
       "<style scoped>\n",
       "    .dataframe tbody tr th:only-of-type {\n",
       "        vertical-align: middle;\n",
       "    }\n",
       "\n",
       "    .dataframe tbody tr th {\n",
       "        vertical-align: top;\n",
       "    }\n",
       "\n",
       "    .dataframe thead th {\n",
       "        text-align: right;\n",
       "    }\n",
       "</style>\n",
       "<table border=\"1\" class=\"dataframe\">\n",
       "  <thead>\n",
       "    <tr style=\"text-align: right;\">\n",
       "      <th></th>\n",
       "      <th>arrowRT</th>\n",
       "      <th>distribution</th>\n",
       "      <th>interTrialInterval</th>\n",
       "      <th>outcome</th>\n",
       "      <th>myCard</th>\n",
       "      <th>yourCard</th>\n",
       "      <th>spaceRT</th>\n",
       "      <th>totalReward</th>\n",
       "      <th>trialIndex</th>\n",
       "      <th>trialType</th>\n",
       "      <th>choice</th>\n",
       "      <th>block</th>\n",
       "      <th>timeoutRepeat</th>\n",
       "      <th>spaceRT_2sd</th>\n",
       "      <th>block_type</th>\n",
       "    </tr>\n",
       "  </thead>\n",
       "  <tbody>\n",
       "    <tr>\n",
       "      <th>0</th>\n",
       "      <td>570.0</td>\n",
       "      <td>uniform</td>\n",
       "      <td>831.0</td>\n",
       "      <td>lose</td>\n",
       "      <td>5.0</td>\n",
       "      <td>2.0</td>\n",
       "      <td>2209.0</td>\n",
       "      <td>9.5</td>\n",
       "      <td>0.0</td>\n",
       "      <td>response</td>\n",
       "      <td>arrowdown</td>\n",
       "      <td>1.0</td>\n",
       "      <td>0.0</td>\n",
       "      <td>33269.609946</td>\n",
       "      <td>uniform</td>\n",
       "    </tr>\n",
       "    <tr>\n",
       "      <th>1</th>\n",
       "      <td>1162.0</td>\n",
       "      <td>uniform</td>\n",
       "      <td>901.0</td>\n",
       "      <td>lose</td>\n",
       "      <td>4.0</td>\n",
       "      <td>3.0</td>\n",
       "      <td>5755.0</td>\n",
       "      <td>9.0</td>\n",
       "      <td>1.0</td>\n",
       "      <td>response</td>\n",
       "      <td>arrowdown</td>\n",
       "      <td>1.0</td>\n",
       "      <td>0.0</td>\n",
       "      <td>33269.609946</td>\n",
       "      <td>uniform</td>\n",
       "    </tr>\n",
       "    <tr>\n",
       "      <th>2</th>\n",
       "      <td>355.0</td>\n",
       "      <td>uniform</td>\n",
       "      <td>939.0</td>\n",
       "      <td>win</td>\n",
       "      <td>4.0</td>\n",
       "      <td>6.0</td>\n",
       "      <td>1209.0</td>\n",
       "      <td>9.5</td>\n",
       "      <td>2.0</td>\n",
       "      <td>response</td>\n",
       "      <td>arrowdown</td>\n",
       "      <td>1.0</td>\n",
       "      <td>0.0</td>\n",
       "      <td>33269.609946</td>\n",
       "      <td>uniform</td>\n",
       "    </tr>\n",
       "  </tbody>\n",
       "</table>\n",
       "</div>"
      ],
      "text/plain": [
       "  arrowRT distribution  interTrialInterval outcome  myCard  yourCard  spaceRT  \\\n",
       "0   570.0      uniform               831.0    lose     5.0       2.0   2209.0   \n",
       "1  1162.0      uniform               901.0    lose     4.0       3.0   5755.0   \n",
       "2   355.0      uniform               939.0     win     4.0       6.0   1209.0   \n",
       "\n",
       "  totalReward  trialIndex trialType     choice  block  timeoutRepeat  \\\n",
       "0         9.5         0.0  response  arrowdown    1.0            0.0   \n",
       "1         9.0         1.0  response  arrowdown    1.0            0.0   \n",
       "2         9.5         2.0  response  arrowdown    1.0            0.0   \n",
       "\n",
       "    spaceRT_2sd block_type  \n",
       "0  33269.609946    uniform  \n",
       "1  33269.609946    uniform  \n",
       "2  33269.609946    uniform  "
      ]
     },
     "execution_count": 3,
     "metadata": {},
     "output_type": "execute_result"
    }
   ],
   "source": [
    "for df in dataframes:\n",
    "    df['block_type'] = None\n",
    "\n",
    "    df.loc[df['block'] == 1, 'block_type'] = 'uniform'     # Block 1 is uni\n",
    "    df.loc[df['block'] == 4, 'block_type'] = 'mix'     # Block 4 is mix\n",
    "\n",
    "    # For blocks 2 and 3, set based on distribution\n",
    "    df.loc[(df['block'] == 2) & (df['distribution'] == 'low'), 'block_type'] = 'low'\n",
    "    df.loc[(df['block'] == 2) & (df['distribution'] == 'high'), 'block_type'] = 'high'\n",
    "    df.loc[(df['block'] == 3) & (df['distribution'] == 'low'), 'block_type'] = 'low'\n",
    "    df.loc[(df['block'] == 3) & (df['distribution'] == 'high'), 'block_type'] = 'high'\n",
    "    \n",
    "dataframes[0].head(3)   "
   ]
  },
  {
   "cell_type": "code",
   "execution_count": 4,
   "id": "f7ab58e3",
   "metadata": {},
   "outputs": [
    {
     "data": {
      "application/vnd.microsoft.datawrangler.viewer.v0+json": {
       "columns": [
        {
         "name": "index",
         "rawType": "int64",
         "type": "integer"
        },
        {
         "name": "arrowRT",
         "rawType": "object",
         "type": "string"
        },
        {
         "name": "distribution",
         "rawType": "object",
         "type": "string"
        },
        {
         "name": "interTrialInterval",
         "rawType": "float64",
         "type": "float"
        },
        {
         "name": "outcome",
         "rawType": "object",
         "type": "string"
        },
        {
         "name": "myCard",
         "rawType": "float64",
         "type": "float"
        },
        {
         "name": "yourCard",
         "rawType": "float64",
         "type": "float"
        },
        {
         "name": "spaceRT",
         "rawType": "float64",
         "type": "float"
        },
        {
         "name": "totalReward",
         "rawType": "object",
         "type": "string"
        },
        {
         "name": "trialIndex",
         "rawType": "float64",
         "type": "float"
        },
        {
         "name": "trialType",
         "rawType": "object",
         "type": "string"
        },
        {
         "name": "choice",
         "rawType": "object",
         "type": "string"
        },
        {
         "name": "block",
         "rawType": "float64",
         "type": "float"
        },
        {
         "name": "timeoutRepeat",
         "rawType": "float64",
         "type": "float"
        },
        {
         "name": "spaceRT_2sd",
         "rawType": "float64",
         "type": "float"
        },
        {
         "name": "block_type",
         "rawType": "object",
         "type": "string"
        },
        {
         "name": "risk",
         "rawType": "float64",
         "type": "float"
        }
       ],
       "conversionMethod": "pd.DataFrame",
       "ref": "ef8dec98-7688-49ae-a86d-bbcfc36560ed",
       "rows": [
        [
         "0",
         "565.0",
         "uniform",
         "955.0",
         "lose",
         "1.0",
         "2.0",
         "1707.0",
         "9.5",
         "0.0",
         "response",
         "arrowup",
         "1.0",
         "0.0",
         "32779.850144858094",
         "uniform",
         "0.0"
        ],
        [
         "1",
         "338.0",
         "uniform",
         "825.0",
         "win",
         "5.0",
         "7.0",
         "2356.0",
         "10.0",
         "1.0",
         "response",
         "arrowdown",
         "1.0",
         "0.0",
         "32779.850144858094",
         "uniform",
         "0.5"
        ],
        [
         "2",
         "727.0",
         "uniform",
         "785.0",
         "win",
         "3.0",
         "4.0",
         "1469.0",
         "10.5",
         "2.0",
         "response",
         "arrowdown",
         "1.0",
         "0.0",
         "32779.850144858094",
         "uniform",
         "0.25"
        ]
       ],
       "shape": {
        "columns": 16,
        "rows": 3
       }
      },
      "text/html": [
       "<div>\n",
       "<style scoped>\n",
       "    .dataframe tbody tr th:only-of-type {\n",
       "        vertical-align: middle;\n",
       "    }\n",
       "\n",
       "    .dataframe tbody tr th {\n",
       "        vertical-align: top;\n",
       "    }\n",
       "\n",
       "    .dataframe thead th {\n",
       "        text-align: right;\n",
       "    }\n",
       "</style>\n",
       "<table border=\"1\" class=\"dataframe\">\n",
       "  <thead>\n",
       "    <tr style=\"text-align: right;\">\n",
       "      <th></th>\n",
       "      <th>arrowRT</th>\n",
       "      <th>distribution</th>\n",
       "      <th>interTrialInterval</th>\n",
       "      <th>outcome</th>\n",
       "      <th>myCard</th>\n",
       "      <th>yourCard</th>\n",
       "      <th>spaceRT</th>\n",
       "      <th>totalReward</th>\n",
       "      <th>trialIndex</th>\n",
       "      <th>trialType</th>\n",
       "      <th>choice</th>\n",
       "      <th>block</th>\n",
       "      <th>timeoutRepeat</th>\n",
       "      <th>spaceRT_2sd</th>\n",
       "      <th>block_type</th>\n",
       "      <th>risk</th>\n",
       "    </tr>\n",
       "  </thead>\n",
       "  <tbody>\n",
       "    <tr>\n",
       "      <th>0</th>\n",
       "      <td>565.0</td>\n",
       "      <td>uniform</td>\n",
       "      <td>955.0</td>\n",
       "      <td>lose</td>\n",
       "      <td>1.0</td>\n",
       "      <td>2.0</td>\n",
       "      <td>1707.0</td>\n",
       "      <td>9.5</td>\n",
       "      <td>0.0</td>\n",
       "      <td>response</td>\n",
       "      <td>arrowup</td>\n",
       "      <td>1.0</td>\n",
       "      <td>0.0</td>\n",
       "      <td>32779.850145</td>\n",
       "      <td>uniform</td>\n",
       "      <td>0.00</td>\n",
       "    </tr>\n",
       "    <tr>\n",
       "      <th>1</th>\n",
       "      <td>338.0</td>\n",
       "      <td>uniform</td>\n",
       "      <td>825.0</td>\n",
       "      <td>win</td>\n",
       "      <td>5.0</td>\n",
       "      <td>7.0</td>\n",
       "      <td>2356.0</td>\n",
       "      <td>10.0</td>\n",
       "      <td>1.0</td>\n",
       "      <td>response</td>\n",
       "      <td>arrowdown</td>\n",
       "      <td>1.0</td>\n",
       "      <td>0.0</td>\n",
       "      <td>32779.850145</td>\n",
       "      <td>uniform</td>\n",
       "      <td>0.50</td>\n",
       "    </tr>\n",
       "    <tr>\n",
       "      <th>2</th>\n",
       "      <td>727.0</td>\n",
       "      <td>uniform</td>\n",
       "      <td>785.0</td>\n",
       "      <td>win</td>\n",
       "      <td>3.0</td>\n",
       "      <td>4.0</td>\n",
       "      <td>1469.0</td>\n",
       "      <td>10.5</td>\n",
       "      <td>2.0</td>\n",
       "      <td>response</td>\n",
       "      <td>arrowdown</td>\n",
       "      <td>1.0</td>\n",
       "      <td>0.0</td>\n",
       "      <td>32779.850145</td>\n",
       "      <td>uniform</td>\n",
       "      <td>0.25</td>\n",
       "    </tr>\n",
       "  </tbody>\n",
       "</table>\n",
       "</div>"
      ],
      "text/plain": [
       "  arrowRT distribution  interTrialInterval outcome  myCard  yourCard  spaceRT  \\\n",
       "0   565.0      uniform               955.0    lose     1.0       2.0   1707.0   \n",
       "1   338.0      uniform               825.0     win     5.0       7.0   2356.0   \n",
       "2   727.0      uniform               785.0     win     3.0       4.0   1469.0   \n",
       "\n",
       "  totalReward  trialIndex trialType     choice  block  timeoutRepeat  \\\n",
       "0         9.5         0.0  response    arrowup    1.0            0.0   \n",
       "1        10.0         1.0  response  arrowdown    1.0            0.0   \n",
       "2        10.5         2.0  response  arrowdown    1.0            0.0   \n",
       "\n",
       "    spaceRT_2sd block_type  risk  \n",
       "0  32779.850145    uniform  0.00  \n",
       "1  32779.850145    uniform  0.50  \n",
       "2  32779.850145    uniform  0.25  "
      ]
     },
     "execution_count": 4,
     "metadata": {},
     "output_type": "execute_result"
    }
   ],
   "source": [
    "# 1) Define the risk dictionaries for each deck type\n",
    "risk_uniform = {\n",
    "    1: 0.0,\n",
    "    2: 0.125,\n",
    "    3: 0.25,\n",
    "    4: 0.375,\n",
    "    5: 0.50,\n",
    "    6: 0.375,\n",
    "    7: 0.25,\n",
    "    8: 0.125,\n",
    "    9: 0.0\n",
    "}\n",
    "\n",
    "risk_low = {\n",
    "    1: 0.000,\n",
    "    2: 0.243,\n",
    "    3: 0.447,\n",
    "    4: 0.385,\n",
    "    5: 0.250,\n",
    "    6: 0.146,\n",
    "    7: 0.071,\n",
    "    8: 0.023,\n",
    "    9: 0.000\n",
    "}\n",
    "\n",
    "risk_high = {\n",
    "    1: 0.000,\n",
    "    2: 0.023,\n",
    "    3: 0.071,\n",
    "    4: 0.146,\n",
    "    5: 0.250,\n",
    "    6: 0.385,\n",
    "    7: 0.447,\n",
    "    8: 0.243,\n",
    "    9: 0.000\n",
    "}\n",
    "\n",
    "# 2) Wrap them in one master dictionary keyed by distribution\n",
    "risk_map = {\n",
    "    'uniform': risk_uniform,\n",
    "    'low':     risk_low,\n",
    "    'high':    risk_high\n",
    "    # If you have a 'mix' condition, decide how to handle or skip it\n",
    "}\n",
    "\n",
    "# 3) For each DataFrame in your list, create a 'risk' column\n",
    "for df in dataframes:\n",
    "    df['risk'] = df.apply(\n",
    "        lambda row: risk_map.get(row['distribution'], {}).get(row['myCard'], np.nan),\n",
    "        axis=1\n",
    "    )\n",
    "    \n",
    "\n",
    "dataframes[1].head(3)\n"
   ]
  },
  {
   "cell_type": "code",
   "execution_count": 5,
   "id": "6630c6ae",
   "metadata": {},
   "outputs": [
    {
     "name": "stdout",
     "output_type": "stream",
     "text": [
      "All files processed and saved with 'risk' column in data_risk_added\n"
     ]
    }
   ],
   "source": [
    "output_folder = 'data_risk_added'\n",
    "\n",
    "for file_name in os.listdir(folder_path):\n",
    "    if file_name.endswith('.xlsx'):\n",
    "        # Read the Excel file\n",
    "        file_path = os.path.join(folder_path, file_name)\n",
    "        df = pd.read_excel(file_path)\n",
    "        \n",
    "        # Compute the new 'risk' column\n",
    "        def compute_risk(row):\n",
    "            dist = row['distribution']\n",
    "            card = row['myCard']\n",
    "            return risk_map.get(dist, {}).get(card, np.nan)\n",
    "        \n",
    "        df['risk'] = df.apply(compute_risk, axis=1)\n",
    "\n",
    "        # (Optional) do any other modifications you need here...\n",
    "        \n",
    "        # Save the updated DataFrame with the same filename to data_risk_added\n",
    "        out_path = os.path.join(output_folder, file_name)\n",
    "        df.to_excel(out_path, index=False)\n",
    "\n",
    "print(\"All files processed and saved with 'risk' column in\", output_folder)"
   ]
  },
  {
   "cell_type": "code",
   "execution_count": null,
   "id": "6002cae4",
   "metadata": {},
   "outputs": [],
   "source": []
  }
 ],
 "metadata": {
  "kernelspec": {
   "display_name": "base",
   "language": "python",
   "name": "python3"
  },
  "language_info": {
   "codemirror_mode": {
    "name": "ipython",
    "version": 3
   },
   "file_extension": ".py",
   "mimetype": "text/x-python",
   "name": "python",
   "nbconvert_exporter": "python",
   "pygments_lexer": "ipython3",
   "version": "3.9.13"
  }
 },
 "nbformat": 4,
 "nbformat_minor": 5
}
